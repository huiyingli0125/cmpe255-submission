{
 "cells": [
  {
   "cell_type": "code",
   "execution_count": 1,
   "metadata": {},
   "outputs": [],
   "source": [
    "#- CRIM per capita crime rate by town \n",
    "#- ZN proportion of residential land zoned for lots over 25,000 sq.ft.\n",
    "#- INDUS proportion of non-retail business acres per town \n",
    "#- CHAS Charles River dummy variable (= 1 if tract bounds river; 0 otherwise) \n",
    "#- NOX nitric oxides concentration (parts per 10 million) \n",
    "#- RM average number of rooms per dwelling    (linear regression use this feature)\n",
    "#- AGE proportion of owner-occupied units built prior to 1940 \n",
    "#- DIS weighted distances to five Boston employment centres \n",
    "#- RAD index of accessibility to radial highways \n",
    "#- TAX full-value property-tax rate per $10,000 \n",
    "#- PTRATIO pupil-teacher ratio by town \n",
    "#- B 1000(Bk - 0.63)^2 where Bk is the proportion of blacks by town \n",
    "#- LSTAT % lower status of the population \n",
    "#- MEDV Median value of owner-occupied homes in $1000\n"
   ]
  },
  {
   "cell_type": "code",
   "execution_count": 2,
   "metadata": {},
   "outputs": [],
   "source": [
    "import pandas as pd"
   ]
  },
  {
   "cell_type": "code",
   "execution_count": 3,
   "metadata": {},
   "outputs": [
    {
     "data": {
      "text/html": [
       "<div>\n",
       "<style scoped>\n",
       "    .dataframe tbody tr th:only-of-type {\n",
       "        vertical-align: middle;\n",
       "    }\n",
       "\n",
       "    .dataframe tbody tr th {\n",
       "        vertical-align: top;\n",
       "    }\n",
       "\n",
       "    .dataframe thead th {\n",
       "        text-align: right;\n",
       "    }\n",
       "</style>\n",
       "<table border=\"1\" class=\"dataframe\">\n",
       "  <thead>\n",
       "    <tr style=\"text-align: right;\">\n",
       "      <th></th>\n",
       "      <th>CRIM</th>\n",
       "      <th>ZN</th>\n",
       "      <th>INDUS</th>\n",
       "      <th>CHAS</th>\n",
       "      <th>NOX</th>\n",
       "      <th>RM</th>\n",
       "      <th>AGE</th>\n",
       "      <th>DIS</th>\n",
       "      <th>RAD</th>\n",
       "      <th>TAX</th>\n",
       "      <th>PTRATIO</th>\n",
       "      <th>B</th>\n",
       "      <th>LSTAT</th>\n",
       "      <th>MEDV</th>\n",
       "    </tr>\n",
       "  </thead>\n",
       "  <tbody>\n",
       "    <tr>\n",
       "      <th>0</th>\n",
       "      <td>0.00632</td>\n",
       "      <td>18.0</td>\n",
       "      <td>2.31</td>\n",
       "      <td>0</td>\n",
       "      <td>0.538</td>\n",
       "      <td>6.575</td>\n",
       "      <td>65.2</td>\n",
       "      <td>4.0900</td>\n",
       "      <td>1</td>\n",
       "      <td>296.0</td>\n",
       "      <td>15.3</td>\n",
       "      <td>396.90</td>\n",
       "      <td>4.98</td>\n",
       "      <td>24.0</td>\n",
       "    </tr>\n",
       "    <tr>\n",
       "      <th>1</th>\n",
       "      <td>0.02731</td>\n",
       "      <td>0.0</td>\n",
       "      <td>7.07</td>\n",
       "      <td>0</td>\n",
       "      <td>0.469</td>\n",
       "      <td>6.421</td>\n",
       "      <td>78.9</td>\n",
       "      <td>4.9671</td>\n",
       "      <td>2</td>\n",
       "      <td>242.0</td>\n",
       "      <td>17.8</td>\n",
       "      <td>396.90</td>\n",
       "      <td>9.14</td>\n",
       "      <td>21.6</td>\n",
       "    </tr>\n",
       "    <tr>\n",
       "      <th>2</th>\n",
       "      <td>0.02729</td>\n",
       "      <td>0.0</td>\n",
       "      <td>7.07</td>\n",
       "      <td>0</td>\n",
       "      <td>0.469</td>\n",
       "      <td>7.185</td>\n",
       "      <td>61.1</td>\n",
       "      <td>4.9671</td>\n",
       "      <td>2</td>\n",
       "      <td>242.0</td>\n",
       "      <td>17.8</td>\n",
       "      <td>392.83</td>\n",
       "      <td>4.03</td>\n",
       "      <td>34.7</td>\n",
       "    </tr>\n",
       "    <tr>\n",
       "      <th>3</th>\n",
       "      <td>0.03237</td>\n",
       "      <td>0.0</td>\n",
       "      <td>2.18</td>\n",
       "      <td>0</td>\n",
       "      <td>0.458</td>\n",
       "      <td>6.998</td>\n",
       "      <td>45.8</td>\n",
       "      <td>6.0622</td>\n",
       "      <td>3</td>\n",
       "      <td>222.0</td>\n",
       "      <td>18.7</td>\n",
       "      <td>394.63</td>\n",
       "      <td>2.94</td>\n",
       "      <td>33.4</td>\n",
       "    </tr>\n",
       "    <tr>\n",
       "      <th>4</th>\n",
       "      <td>0.06905</td>\n",
       "      <td>0.0</td>\n",
       "      <td>2.18</td>\n",
       "      <td>0</td>\n",
       "      <td>0.458</td>\n",
       "      <td>7.147</td>\n",
       "      <td>54.2</td>\n",
       "      <td>6.0622</td>\n",
       "      <td>3</td>\n",
       "      <td>222.0</td>\n",
       "      <td>18.7</td>\n",
       "      <td>396.90</td>\n",
       "      <td>5.33</td>\n",
       "      <td>36.2</td>\n",
       "    </tr>\n",
       "  </tbody>\n",
       "</table>\n",
       "</div>"
      ],
      "text/plain": [
       "      CRIM    ZN  INDUS  CHAS    NOX     RM   AGE     DIS  RAD    TAX  \\\n",
       "0  0.00632  18.0   2.31     0  0.538  6.575  65.2  4.0900    1  296.0   \n",
       "1  0.02731   0.0   7.07     0  0.469  6.421  78.9  4.9671    2  242.0   \n",
       "2  0.02729   0.0   7.07     0  0.469  7.185  61.1  4.9671    2  242.0   \n",
       "3  0.03237   0.0   2.18     0  0.458  6.998  45.8  6.0622    3  222.0   \n",
       "4  0.06905   0.0   2.18     0  0.458  7.147  54.2  6.0622    3  222.0   \n",
       "\n",
       "   PTRATIO       B  LSTAT  MEDV  \n",
       "0     15.3  396.90   4.98  24.0  \n",
       "1     17.8  396.90   9.14  21.6  \n",
       "2     17.8  392.83   4.03  34.7  \n",
       "3     18.7  394.63   2.94  33.4  \n",
       "4     18.7  396.90   5.33  36.2  "
      ]
     },
     "execution_count": 3,
     "metadata": {},
     "output_type": "execute_result"
    }
   ],
   "source": [
    "names = ['CRIM', 'ZN', 'INDUS', 'CHAS', 'NOX', 'RM', 'AGE', 'DIS', 'RAD', 'TAX', 'PTRATIO', 'B', 'LSTAT', 'MEDV']\n",
    "data = pd.read_csv('data/housing.csv', delim_whitespace=True, names = names)\n",
    "data.head()\n"
   ]
  },
  {
   "cell_type": "code",
   "execution_count": 4,
   "metadata": {},
   "outputs": [],
   "source": [
    "# I - Linear Regression\n",
    "\n",
    "# Build a model using a linear regression (Scikit-learn) algorithm to predict house prices. \n",
    "# You can pick a feature from the dataset to work with the model.\n",
    "\n",
    "# Plot the data with the best fit line.\n",
    "# Calculate a RMSE score.\n",
    "# Calculate a R-squared score."
   ]
  },
  {
   "cell_type": "code",
   "execution_count": 5,
   "metadata": {},
   "outputs": [
    {
     "data": {
      "image/png": "[encoded data removed]",
      "text/plain": [
       "<Figure size 432x288 with 1 Axes>"
      ]
     },
     "metadata": {
      "needs_background": "light"
     },
     "output_type": "display_data"
    },
    {
     "name": "stdout",
     "output_type": "stream",
     "text": [
      "Linear Regression\n",
      "RMSE: 5.48\n",
      "R-squared: 0.50\n"
     ]
    }
   ],
   "source": [
    "from sklearn.linear_model import LinearRegression\n",
    "import numpy as np\n",
    "from sklearn.metrics import mean_squared_error, r2_score\n",
    "import matplotlib.pyplot as plt\n",
    "\n",
    "np.random.seed(2)\n",
    "\n",
    "n = len(data)\n",
    "\n",
    "n_test = int(0.2 * n)\n",
    "n_train = n - n_test\n",
    "\n",
    "idx = np.arange(n)\n",
    "np.random.shuffle(idx)\n",
    "\n",
    "data_shuffled = data.iloc[idx]\n",
    "\n",
    "data_train = data_shuffled.iloc[:n_train].copy()\n",
    "data_test = data_shuffled.iloc[n_train:].copy()\n",
    "\n",
    "\n",
    "data_X_train_1 = data_train['RM']\n",
    "data_X_train_1 = data_X_train_1.values.reshape(-1,1) \n",
    "data_X_test_1 = data_test['RM']\n",
    "data_X_test_1 = data_X_test_1.values.reshape(-1,1) \n",
    "\n",
    "data_y_train_1 = data_train['MEDV']\n",
    "data_y_train_1 = data_y_train_1.values.reshape(-1,1) \n",
    "data_y_test_1 = data_test['MEDV']\n",
    "data_y_test_1 = data_y_test_1.values.reshape(-1,1)\n",
    "\n",
    "linear_model = LinearRegression()\n",
    "linear_model.fit(data_X_train_1, data_y_train_1)\n",
    "data_y_predict_1 = linear_model.predict(data_X_test_1)\n",
    "\n",
    "\n",
    "plt.scatter(data_X_test_1, data_y_test_1,  color='black')\n",
    "plt.plot(data_X_test_1, data_y_predict_1, color='blue', linewidth=3)\n",
    "plt.show()\n",
    "\n",
    "print(\"Linear Regression\")\n",
    "print('RMSE: %.2f' % np.sqrt(mean_squared_error(data_y_test_1, data_y_predict_1)))\n",
    "print('R-squared: %.2f'% r2_score(data_y_test_1, data_y_predict_1))"
   ]
  },
  {
   "cell_type": "code",
   "execution_count": 6,
   "metadata": {},
   "outputs": [],
   "source": [
    "# II - Polynomial Regression\n",
    "\n",
    "# Build a model using a Polynomial regression algorithm to predict house prices. \n",
    "# Keep the same feature you selected from the previous part to work with the polynomial model. "
   ]
  },
  {
   "cell_type": "code",
   "execution_count": 12,
   "metadata": {},
   "outputs": [
    {
     "name": "stdout",
     "output_type": "stream",
     "text": [
      "Polynomial Regression\n",
      "Degree:  2\n",
      "RMSE: 13.27805\n",
      "R-squared: -1.96740\n"
     ]
    },
    {
     "data": {
      "image/png": "[encoded data removed]",
      "text/plain": [
       "<Figure size 432x288 with 1 Axes>"
      ]
     },
     "metadata": {
      "needs_background": "light"
     },
     "output_type": "display_data"
    },
    {
     "name": "stdout",
     "output_type": "stream",
     "text": [
      "\n",
      "\n",
      "Polynomial Regression\n",
      "Degree:  20\n",
      "RMSE: 14.28554\n",
      "R-squared: -2.43480\n"
     ]
    },
    {
     "data": {
      "image/png": "[encoded data removed]",
      "text/plain": [
       "<Figure size 432x288 with 1 Axes>"
      ]
     },
     "metadata": {
      "needs_background": "light"
     },
     "output_type": "display_data"
    },
    {
     "name": "stdout",
     "output_type": "stream",
     "text": [
      "\n",
      "\n"
     ]
    }
   ],
   "source": [
    "from sklearn.preprocessing import PolynomialFeatures\n",
    "\n",
    "degree = [2, 20]\n",
    "for d in degree:\n",
    "    \n",
    "    poly=PolynomialFeatures(degree=d)\n",
    "    poly_data_X_train = poly.fit_transform(data_X_train_1)\n",
    "    poly_data_X_test = poly.fit_transform(data_X_test_1)\n",
    "    poly_model = LinearRegression()\n",
    "    poly_model.fit(poly_data_X_train, data_y_train_1)\n",
    "\n",
    "    xx = np.linspace(4, 8.5, 101)\n",
    "    xx_tran = poly.fit_transform(xx.reshape(xx.shape[0], 1))\n",
    "    data_y_predict_2 = poly_model.predict(xx_tran)\n",
    "\n",
    "    print (\"Polynomial Regression\")\n",
    "    print (\"Degree:  %s\" % d)\n",
    "    print('RMSE: %.5f' % np.sqrt(mean_squared_error(data_y_test_1, data_y_predict_2)))\n",
    "    print('R-squared: %.5f'% r2_score(data_y_test_1, data_y_predict_2))\n",
    "    plt.scatter(data_X_test_1, data_y_test_1,  color='black')\n",
    "    plt.plot(xx, data_y_predict_2, color='blue', linewidth=3)\n",
    "    plt.show()\n",
    "    print (\"\\n\")"
   ]
  },
  {
   "cell_type": "code",
   "execution_count": null,
   "metadata": {},
   "outputs": [],
   "source": [
    "# III - Multiple Regression\n",
    "# Build a model using a multiple regression algorithm to predict house prices. \n",
    "# Select 3 or more features to work with the model. \n",
    "\n",
    "# Plot the curve.\n",
    "# Calculate a RMSE score.\n",
    "# Calculate a R-squared score.\n",
    "# Calculate an adjusted R-squared score.\n"
   ]
  },
  {
   "cell_type": "code",
   "execution_count": 13,
   "metadata": {},
   "outputs": [
    {
     "name": "stdout",
     "output_type": "stream",
     "text": [
      "Multiple Regression\n",
      "RMSE: 4.72\n",
      "R-squared: 0.62517\n",
      "Adjusted R-squared: 0.62237\n"
     ]
    }
   ],
   "source": [
    "import statsmodels.formula.api as smf\n",
    "\n",
    "df = data[['RM','TAX', 'B','LSTAT', 'MEDV']]\n",
    "\n",
    "np.random.seed(2)\n",
    "\n",
    "n = len(df)\n",
    "\n",
    "n_test = int(0.2 * n)\n",
    "n_train = n - n_test\n",
    "\n",
    "idx = np.arange(n)\n",
    "np.random.shuffle(idx)\n",
    "\n",
    "data_shuffled = df.iloc[idx]\n",
    "\n",
    "data_train = data_shuffled.iloc[:n_train].copy()\n",
    "data_test = data_shuffled.iloc[n_train:].copy()\n",
    "\n",
    "data_X_train_mul = data_train[['RM','TAX','LSTAT']]\n",
    "data_y_train_mul = data_train[['MEDV']]\n",
    "data_X_test_mul = data_test[['RM','TAX','LSTAT']]\n",
    "data_y_test_mul = data_test[['MEDV']]\n",
    "\n",
    "\n",
    "mul_model = LinearRegression()\n",
    "mul_model.fit(data_X_train_mul,data_y_train_mul)\n",
    "data_y_predict_mul = mul_model.predict(data_X_test_mul)\n",
    "\n",
    "print(\"Multiple Regression\")\n",
    "\n",
    "print('RMSE: %.2f' % np.sqrt(mean_squared_error(data_y_test_mul, data_y_predict_mul)))\n",
    "print('R-squared: %.5f'% r2_score(data_y_test_mul, data_y_predict_mul))\n",
    "print('Adjusted R-squared: %.5f'% (1 - (1 - r2_score(data_y_test_mul, data_y_predict_mul)) * (len(data_y_train_mul) - 1) / (len(data_y_train_mul) - data_X_train_mul.shape[1] - 1)))\n"
   ]
  },
  {
   "cell_type": "code",
   "execution_count": null,
   "metadata": {},
   "outputs": [],
   "source": []
  },
  {
   "cell_type": "code",
   "execution_count": null,
   "metadata": {},
   "outputs": [],
   "source": []
  }
 ],
 "metadata": {
  "kernelspec": {
   "display_name": "Python 3",
   "language": "python",
   "name": "python3"
  },
  "language_info": {
   "codemirror_mode": {
    "name": "ipython",
    "version": 3
   },
   "file_extension": ".py",
   "mimetype": "text/x-python",
   "name": "python",
   "nbconvert_exporter": "python",
   "pygments_lexer": "ipython3",
   "version": "3.8.6"
  }
 },
 "nbformat": 4,
 "nbformat_minor": 4
}
